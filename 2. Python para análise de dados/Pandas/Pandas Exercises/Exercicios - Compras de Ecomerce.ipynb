{
 "cells": [
  {
   "cell_type": "markdown",
   "metadata": {},
   "source": [
    "\n",
    "# Exercício - Compras de Ecommerce  \n",
    "\n",
    "Neste exercício, você receberá alguns dados falsos sobre algumas compras feitas pela Amazon! Basta seguir as instruções e tente dar melhor para responder as perguntas e completar as tarefas. Sinta-se a vontade para dar uma olhada nas soluções. A maioria das tarefas pode ser resolvida de diferentes maneiras. Para a maior parte, as perguntas ficam cada vez mais difíceis.\n",
    "\n",
    "Peço desculpas desde já por todos dados que não parecerem muito reais. São todos falsos.\n",
    "\n",
    "Observe também que todas essas questões podem ser respondidas com uma linha de código.\n",
    "____\n",
    "** Importe pandas e leia o arquivo csv \"Ecommerce Purchases\" e configure-o para um DataFrame chamado ecom. **"
   ]
  },
  {
   "cell_type": "code",
   "execution_count": 1,
   "metadata": {},
   "outputs": [],
   "source": [
    "import pandas as pd"
   ]
  },
  {
   "cell_type": "code",
   "execution_count": 2,
   "metadata": {},
   "outputs": [],
   "source": [
    "ecom = pd.read_csv(r\"C:\\Users\\rafael.silva\\Documents\\005-Estudo\\2. Python para análise de dados\\Pandas\\Pandas Exercises\\Ecommerce Purchases.csv\")"
   ]
  },
  {
   "cell_type": "markdown",
   "metadata": {},
   "source": [
    "**Verifique o \"head\" do DataFrame.**"
   ]
  },
  {
   "cell_type": "code",
   "execution_count": 3,
   "metadata": {},
   "outputs": [
    {
     "data": {
      "text/html": [
       "<div>\n",
       "<style scoped>\n",
       "    .dataframe tbody tr th:only-of-type {\n",
       "        vertical-align: middle;\n",
       "    }\n",
       "\n",
       "    .dataframe tbody tr th {\n",
       "        vertical-align: top;\n",
       "    }\n",
       "\n",
       "    .dataframe thead th {\n",
       "        text-align: right;\n",
       "    }\n",
       "</style>\n",
       "<table border=\"1\" class=\"dataframe\">\n",
       "  <thead>\n",
       "    <tr style=\"text-align: right;\">\n",
       "      <th></th>\n",
       "      <th>Address</th>\n",
       "      <th>Lot</th>\n",
       "      <th>AM or PM</th>\n",
       "      <th>Browser Info</th>\n",
       "      <th>Company</th>\n",
       "      <th>Credit Card</th>\n",
       "      <th>CC Exp Date</th>\n",
       "      <th>CC Security Code</th>\n",
       "      <th>CC Provider</th>\n",
       "      <th>Email</th>\n",
       "      <th>Job</th>\n",
       "      <th>IP Address</th>\n",
       "      <th>Language</th>\n",
       "      <th>Purchase Price</th>\n",
       "    </tr>\n",
       "  </thead>\n",
       "  <tbody>\n",
       "    <tr>\n",
       "      <th>0</th>\n",
       "      <td>16629 Pace Camp Apt. 448\\nAlexisborough, NE 77...</td>\n",
       "      <td>46 in</td>\n",
       "      <td>PM</td>\n",
       "      <td>Opera/9.56.(X11; Linux x86_64; sl-SI) Presto/2...</td>\n",
       "      <td>Martinez-Herman</td>\n",
       "      <td>6011929061123406</td>\n",
       "      <td>02/20</td>\n",
       "      <td>900</td>\n",
       "      <td>JCB 16 digit</td>\n",
       "      <td>pdunlap@yahoo.com</td>\n",
       "      <td>Scientist, product/process development</td>\n",
       "      <td>149.146.147.205</td>\n",
       "      <td>el</td>\n",
       "      <td>98.14</td>\n",
       "    </tr>\n",
       "    <tr>\n",
       "      <th>1</th>\n",
       "      <td>9374 Jasmine Spurs Suite 508\\nSouth John, TN 8...</td>\n",
       "      <td>28 rn</td>\n",
       "      <td>PM</td>\n",
       "      <td>Opera/8.93.(Windows 98; Win 9x 4.90; en-US) Pr...</td>\n",
       "      <td>Fletcher, Richards and Whitaker</td>\n",
       "      <td>3337758169645356</td>\n",
       "      <td>11/18</td>\n",
       "      <td>561</td>\n",
       "      <td>Mastercard</td>\n",
       "      <td>anthony41@reed.com</td>\n",
       "      <td>Drilling engineer</td>\n",
       "      <td>15.160.41.51</td>\n",
       "      <td>fr</td>\n",
       "      <td>70.73</td>\n",
       "    </tr>\n",
       "    <tr>\n",
       "      <th>2</th>\n",
       "      <td>Unit 0065 Box 5052\\nDPO AP 27450</td>\n",
       "      <td>94 vE</td>\n",
       "      <td>PM</td>\n",
       "      <td>Mozilla/5.0 (compatible; MSIE 9.0; Windows NT ...</td>\n",
       "      <td>Simpson, Williams and Pham</td>\n",
       "      <td>675957666125</td>\n",
       "      <td>08/19</td>\n",
       "      <td>699</td>\n",
       "      <td>JCB 16 digit</td>\n",
       "      <td>amymiller@morales-harrison.com</td>\n",
       "      <td>Customer service manager</td>\n",
       "      <td>132.207.160.22</td>\n",
       "      <td>de</td>\n",
       "      <td>0.95</td>\n",
       "    </tr>\n",
       "    <tr>\n",
       "      <th>3</th>\n",
       "      <td>7780 Julia Fords\\nNew Stacy, WA 45798</td>\n",
       "      <td>36 vm</td>\n",
       "      <td>PM</td>\n",
       "      <td>Mozilla/5.0 (Macintosh; Intel Mac OS X 10_8_0 ...</td>\n",
       "      <td>Williams, Marshall and Buchanan</td>\n",
       "      <td>6011578504430710</td>\n",
       "      <td>02/24</td>\n",
       "      <td>384</td>\n",
       "      <td>Discover</td>\n",
       "      <td>brent16@olson-robinson.info</td>\n",
       "      <td>Drilling engineer</td>\n",
       "      <td>30.250.74.19</td>\n",
       "      <td>es</td>\n",
       "      <td>78.04</td>\n",
       "    </tr>\n",
       "    <tr>\n",
       "      <th>4</th>\n",
       "      <td>23012 Munoz Drive Suite 337\\nNew Cynthia, TX 5...</td>\n",
       "      <td>20 IE</td>\n",
       "      <td>AM</td>\n",
       "      <td>Opera/9.58.(X11; Linux x86_64; it-IT) Presto/2...</td>\n",
       "      <td>Brown, Watson and Andrews</td>\n",
       "      <td>6011456623207998</td>\n",
       "      <td>10/25</td>\n",
       "      <td>678</td>\n",
       "      <td>Diners Club / Carte Blanche</td>\n",
       "      <td>christopherwright@gmail.com</td>\n",
       "      <td>Fine artist</td>\n",
       "      <td>24.140.33.94</td>\n",
       "      <td>es</td>\n",
       "      <td>77.82</td>\n",
       "    </tr>\n",
       "  </tbody>\n",
       "</table>\n",
       "</div>"
      ],
      "text/plain": [
       "                                             Address    Lot AM or PM  \\\n",
       "0  16629 Pace Camp Apt. 448\\nAlexisborough, NE 77...  46 in       PM   \n",
       "1  9374 Jasmine Spurs Suite 508\\nSouth John, TN 8...  28 rn       PM   \n",
       "2                   Unit 0065 Box 5052\\nDPO AP 27450  94 vE       PM   \n",
       "3              7780 Julia Fords\\nNew Stacy, WA 45798  36 vm       PM   \n",
       "4  23012 Munoz Drive Suite 337\\nNew Cynthia, TX 5...  20 IE       AM   \n",
       "\n",
       "                                        Browser Info  \\\n",
       "0  Opera/9.56.(X11; Linux x86_64; sl-SI) Presto/2...   \n",
       "1  Opera/8.93.(Windows 98; Win 9x 4.90; en-US) Pr...   \n",
       "2  Mozilla/5.0 (compatible; MSIE 9.0; Windows NT ...   \n",
       "3  Mozilla/5.0 (Macintosh; Intel Mac OS X 10_8_0 ...   \n",
       "4  Opera/9.58.(X11; Linux x86_64; it-IT) Presto/2...   \n",
       "\n",
       "                           Company       Credit Card CC Exp Date  \\\n",
       "0                  Martinez-Herman  6011929061123406       02/20   \n",
       "1  Fletcher, Richards and Whitaker  3337758169645356       11/18   \n",
       "2       Simpson, Williams and Pham      675957666125       08/19   \n",
       "3  Williams, Marshall and Buchanan  6011578504430710       02/24   \n",
       "4        Brown, Watson and Andrews  6011456623207998       10/25   \n",
       "\n",
       "   CC Security Code                  CC Provider  \\\n",
       "0               900                 JCB 16 digit   \n",
       "1               561                   Mastercard   \n",
       "2               699                 JCB 16 digit   \n",
       "3               384                     Discover   \n",
       "4               678  Diners Club / Carte Blanche   \n",
       "\n",
       "                            Email                                     Job  \\\n",
       "0               pdunlap@yahoo.com  Scientist, product/process development   \n",
       "1              anthony41@reed.com                       Drilling engineer   \n",
       "2  amymiller@morales-harrison.com                Customer service manager   \n",
       "3     brent16@olson-robinson.info                       Drilling engineer   \n",
       "4     christopherwright@gmail.com                             Fine artist   \n",
       "\n",
       "        IP Address Language  Purchase Price  \n",
       "0  149.146.147.205       el           98.14  \n",
       "1     15.160.41.51       fr           70.73  \n",
       "2   132.207.160.22       de            0.95  \n",
       "3     30.250.74.19       es           78.04  \n",
       "4     24.140.33.94       es           77.82  "
      ]
     },
     "execution_count": 3,
     "metadata": {},
     "output_type": "execute_result"
    }
   ],
   "source": [
    "ecom.head()"
   ]
  },
  {
   "cell_type": "markdown",
   "metadata": {},
   "source": [
    "** Quantas linhas e colunas existem? **"
   ]
  },
  {
   "cell_type": "code",
   "execution_count": 4,
   "metadata": {},
   "outputs": [
    {
     "name": "stdout",
     "output_type": "stream",
     "text": [
      "<class 'pandas.core.frame.DataFrame'>\n",
      "RangeIndex: 10000 entries, 0 to 9999\n",
      "Data columns (total 14 columns):\n",
      " #   Column            Non-Null Count  Dtype  \n",
      "---  ------            --------------  -----  \n",
      " 0   Address           10000 non-null  object \n",
      " 1   Lot               10000 non-null  object \n",
      " 2   AM or PM          10000 non-null  object \n",
      " 3   Browser Info      10000 non-null  object \n",
      " 4   Company           10000 non-null  object \n",
      " 5   Credit Card       10000 non-null  int64  \n",
      " 6   CC Exp Date       10000 non-null  object \n",
      " 7   CC Security Code  10000 non-null  int64  \n",
      " 8   CC Provider       10000 non-null  object \n",
      " 9   Email             10000 non-null  object \n",
      " 10  Job               10000 non-null  object \n",
      " 11  IP Address        10000 non-null  object \n",
      " 12  Language          10000 non-null  object \n",
      " 13  Purchase Price    10000 non-null  float64\n",
      "dtypes: float64(1), int64(2), object(11)\n",
      "memory usage: 1.1+ MB\n"
     ]
    }
   ],
   "source": [
    "ecom.info()"
   ]
  },
  {
   "cell_type": "code",
   "execution_count": 5,
   "metadata": {},
   "outputs": [
    {
     "data": {
      "text/plain": [
       "50.347302"
      ]
     },
     "execution_count": 5,
     "metadata": {},
     "output_type": "execute_result"
    }
   ],
   "source": [
    "ecom['Purchase Price'].mean()"
   ]
  },
  {
   "cell_type": "markdown",
   "metadata": {},
   "source": [
    "** Qual é o preço de compra médio? **"
   ]
  },
  {
   "cell_type": "code",
   "execution_count": 6,
   "metadata": {},
   "outputs": [
    {
     "data": {
      "text/plain": [
       "99.99"
      ]
     },
     "execution_count": 6,
     "metadata": {},
     "output_type": "execute_result"
    }
   ],
   "source": [
    "ecom['Purchase Price'].max()"
   ]
  },
  {
   "cell_type": "markdown",
   "metadata": {},
   "source": [
    "** Quais foram os preços de compra mais altos e mais baixos? **"
   ]
  },
  {
   "cell_type": "code",
   "execution_count": 7,
   "metadata": {},
   "outputs": [
    {
     "data": {
      "text/plain": [
       "0.0"
      ]
     },
     "execution_count": 7,
     "metadata": {},
     "output_type": "execute_result"
    }
   ],
   "source": [
    "ecom['Purchase Price'].min()"
   ]
  },
  {
   "cell_type": "code",
   "execution_count": 13,
   "metadata": {},
   "outputs": [
    {
     "data": {
      "text/plain": [
       "Address             1098\n",
       "Lot                 1098\n",
       "AM or PM            1098\n",
       "Browser Info        1098\n",
       "Company             1098\n",
       "Credit Card         1098\n",
       "CC Exp Date         1098\n",
       "CC Security Code    1098\n",
       "CC Provider         1098\n",
       "Email               1098\n",
       "Job                 1098\n",
       "IP Address          1098\n",
       "Language            1098\n",
       "Purchase Price      1098\n",
       "dtype: int64"
      ]
     },
     "execution_count": 13,
     "metadata": {},
     "output_type": "execute_result"
    }
   ],
   "source": [
    "ecom[ecom['Language']=='en'].count()"
   ]
  },
  {
   "cell_type": "markdown",
   "metadata": {},
   "source": [
    "** Quantas pessoas têm Inglês 'en' como sua língua de escolha no site? **"
   ]
  },
  {
   "cell_type": "code",
   "execution_count": 23,
   "metadata": {},
   "outputs": [
    {
     "data": {
      "text/plain": [
       "30"
      ]
     },
     "execution_count": 23,
     "metadata": {},
     "output_type": "execute_result"
    }
   ],
   "source": [
    "sum(ecom['Job'] == 'Lawyer')"
   ]
  },
  {
   "cell_type": "markdown",
   "metadata": {},
   "source": [
    "** Quantas pessoas têm o cargo de \"Advogado\"? **"
   ]
  },
  {
   "cell_type": "code",
   "execution_count": 95,
   "metadata": {},
   "outputs": [
    {
     "name": "stdout",
     "output_type": "stream",
     "text": [
      "<class 'pandas.core.frame.DataFrame'>\n",
      "Int64Index: 30 entries, 470 to 9979\n",
      "Data columns (total 14 columns):\n",
      "Address             30 non-null object\n",
      "Lot                 30 non-null object\n",
      "AM or PM            30 non-null object\n",
      "Browser Info        30 non-null object\n",
      "Company             30 non-null object\n",
      "Credit Card         30 non-null int64\n",
      "CC Exp Date         30 non-null object\n",
      "CC Security Code    30 non-null int64\n",
      "CC Provider         30 non-null object\n",
      "Email               30 non-null object\n",
      "Job                 30 non-null object\n",
      "IP Address          30 non-null object\n",
      "Language            30 non-null object\n",
      "Purchase Price      30 non-null float64\n",
      "dtypes: float64(1), int64(2), object(11)\n",
      "memory usage: 3.5+ KB\n"
     ]
    }
   ],
   "source": []
  },
  {
   "cell_type": "markdown",
   "metadata": {},
   "source": [
    "** Quantas pessoas fizeram a compra durante a AM e quantas pessoas fizeram a compra durante o PM? **\n",
    "\n",
    "** (Sugestão: Confira [value_counts ()](http://pandas.pydata.org/pandas-docs/stable/generated/pandas.Series.value_counts.html)) **"
   ]
  },
  {
   "cell_type": "code",
   "execution_count": 25,
   "metadata": {},
   "outputs": [
    {
     "data": {
      "text/plain": [
       "AM or PM\n",
       "PM    5068\n",
       "AM    4932\n",
       "Name: count, dtype: int64"
      ]
     },
     "execution_count": 25,
     "metadata": {},
     "output_type": "execute_result"
    }
   ],
   "source": [
    "ecom.value_counts('AM or PM')"
   ]
  },
  {
   "cell_type": "markdown",
   "metadata": {},
   "source": [
    "** Quais são os 5 títulos de trabalho mais comuns? **"
   ]
  },
  {
   "cell_type": "code",
   "execution_count": 27,
   "metadata": {},
   "outputs": [
    {
     "data": {
      "text/plain": [
       "Job\n",
       "Interior and spatial designer        31\n",
       "Lawyer                               30\n",
       "Social researcher                    28\n",
       "Designer, jewellery                  27\n",
       "Research officer, political party    27\n",
       "Name: count, dtype: int64"
      ]
     },
     "execution_count": 27,
     "metadata": {},
     "output_type": "execute_result"
    }
   ],
   "source": [
    "ecom.value_counts('Job').head(5)"
   ]
  },
  {
   "cell_type": "markdown",
   "metadata": {},
   "source": [
    "** Alguém fez uma compra que veio do Lot: \"90 WT\", qual foi o preço de compra para esta transação? **"
   ]
  },
  {
   "cell_type": "code",
   "execution_count": 28,
   "metadata": {},
   "outputs": [
    {
     "data": {
      "text/plain": [
       "513    75.1\n",
       "Name: Purchase Price, dtype: float64"
      ]
     },
     "execution_count": 28,
     "metadata": {},
     "output_type": "execute_result"
    }
   ],
   "source": [
    "ecom[ecom['Lot'] == '90 WT']['Purchase Price']"
   ]
  },
  {
   "cell_type": "code",
   "execution_count": 99,
   "metadata": {},
   "outputs": [
    {
     "data": {
      "text/plain": [
       "513    75.1\n",
       "Name: Purchase Price, dtype: float64"
      ]
     },
     "execution_count": 99,
     "metadata": {},
     "output_type": "execute_result"
    }
   ],
   "source": []
  },
  {
   "cell_type": "markdown",
   "metadata": {},
   "source": [
    "** Qual é o email da pessoa com o seguinte número do cartão de crédito: 4926535242672853 **"
   ]
  },
  {
   "cell_type": "code",
   "execution_count": 31,
   "metadata": {},
   "outputs": [
    {
     "data": {
      "text/plain": [
       "1234    bondellen@williams-garza.com\n",
       "Name: Email, dtype: object"
      ]
     },
     "execution_count": 31,
     "metadata": {},
     "output_type": "execute_result"
    }
   ],
   "source": [
    "ecom[ecom['Credit Card'] == 4926535242672853]['Email']"
   ]
  },
  {
   "cell_type": "markdown",
   "metadata": {},
   "source": [
    "** Quantas pessoas têm o American Express como seu fornecedor de cartão de crédito * e * fizeram uma compra acima de US $ 95? **"
   ]
  },
  {
   "cell_type": "code",
   "execution_count": 34,
   "metadata": {},
   "outputs": [
    {
     "data": {
      "text/plain": [
       "Address             39\n",
       "Lot                 39\n",
       "AM or PM            39\n",
       "Browser Info        39\n",
       "Company             39\n",
       "Credit Card         39\n",
       "CC Exp Date         39\n",
       "CC Security Code    39\n",
       "CC Provider         39\n",
       "Email               39\n",
       "Job                 39\n",
       "IP Address          39\n",
       "Language            39\n",
       "Purchase Price      39\n",
       "dtype: int64"
      ]
     },
     "execution_count": 34,
     "metadata": {},
     "output_type": "execute_result"
    }
   ],
   "source": [
    "ecom[(ecom['CC Provider'] == 'American Express') & (ecom['Purchase Price'] > 95)].count()"
   ]
  },
  {
   "cell_type": "markdown",
   "metadata": {},
   "source": [
    "** Difícil: quantas pessoas tem um cartão de crédito que expira em 2025? **"
   ]
  },
  {
   "cell_type": "code",
   "execution_count": 44,
   "metadata": {},
   "outputs": [
    {
     "data": {
      "text/plain": [
       "1033"
      ]
     },
     "execution_count": 44,
     "metadata": {},
     "output_type": "execute_result"
    }
   ],
   "source": [
    "len(ecom[ecom['CC Exp Date'].apply(lambda x: x[3:])=='25'])\n",
    "\n",
    "# ecom['CC Exp Date']\n",
    "\n",
    "\n",
    "#1033"
   ]
  },
  {
   "cell_type": "markdown",
   "metadata": {},
   "source": [
    "** Difícil: quais são os 5 principais provedores de e-mail / hosts mais populares (por exemplo, gmail.com, yahoo.com, etc ...) **"
   ]
  },
  {
   "cell_type": "code",
   "execution_count": 46,
   "metadata": {},
   "outputs": [],
   "source": [
    "# ecom['Host'] = ecom['Email'].apply(lambda mail: mail.split('@')[-1])"
   ]
  },
  {
   "cell_type": "code",
   "execution_count": 51,
   "metadata": {},
   "outputs": [
    {
     "data": {
      "text/plain": [
       "Host\n",
       "hotmail.com     1638\n",
       "yahoo.com       1616\n",
       "gmail.com       1605\n",
       "smith.com         42\n",
       "williams.com      37\n",
       "Name: count, dtype: int64"
      ]
     },
     "execution_count": 51,
     "metadata": {},
     "output_type": "execute_result"
    }
   ],
   "source": [
    "ecom.value_counts('Host').head(5)"
   ]
  },
  {
   "cell_type": "code",
   "execution_count": 49,
   "metadata": {},
   "outputs": [
    {
     "data": {
      "text/html": [
       "<div>\n",
       "<style scoped>\n",
       "    .dataframe tbody tr th:only-of-type {\n",
       "        vertical-align: middle;\n",
       "    }\n",
       "\n",
       "    .dataframe tbody tr th {\n",
       "        vertical-align: top;\n",
       "    }\n",
       "\n",
       "    .dataframe thead th {\n",
       "        text-align: right;\n",
       "    }\n",
       "</style>\n",
       "<table border=\"1\" class=\"dataframe\">\n",
       "  <thead>\n",
       "    <tr style=\"text-align: right;\">\n",
       "      <th></th>\n",
       "      <th>Address</th>\n",
       "      <th>Lot</th>\n",
       "      <th>AM or PM</th>\n",
       "      <th>Browser Info</th>\n",
       "      <th>Company</th>\n",
       "      <th>Credit Card</th>\n",
       "      <th>CC Exp Date</th>\n",
       "      <th>CC Security Code</th>\n",
       "      <th>CC Provider</th>\n",
       "      <th>Email</th>\n",
       "      <th>Job</th>\n",
       "      <th>IP Address</th>\n",
       "      <th>Language</th>\n",
       "      <th>Purchase Price</th>\n",
       "    </tr>\n",
       "    <tr>\n",
       "      <th>Host</th>\n",
       "      <th></th>\n",
       "      <th></th>\n",
       "      <th></th>\n",
       "      <th></th>\n",
       "      <th></th>\n",
       "      <th></th>\n",
       "      <th></th>\n",
       "      <th></th>\n",
       "      <th></th>\n",
       "      <th></th>\n",
       "      <th></th>\n",
       "      <th></th>\n",
       "      <th></th>\n",
       "      <th></th>\n",
       "    </tr>\n",
       "  </thead>\n",
       "  <tbody>\n",
       "    <tr>\n",
       "      <th>acevedo-osborn.com</th>\n",
       "      <td>62056 Anderson Fort Suite 150\\nSouth Katherine...</td>\n",
       "      <td>63 Qn</td>\n",
       "      <td>AM</td>\n",
       "      <td>Mozilla/5.0 (X11; Linux i686; rv:1.9.5.20) Gec...</td>\n",
       "      <td>Martinez, Wilson and Jacobs</td>\n",
       "      <td>4781478519992148</td>\n",
       "      <td>06/24</td>\n",
       "      <td>434</td>\n",
       "      <td>Discover</td>\n",
       "      <td>jeffery47@acevedo-osborn.com</td>\n",
       "      <td>Seismic interpreter</td>\n",
       "      <td>37.234.95.179</td>\n",
       "      <td>es</td>\n",
       "      <td>70.01</td>\n",
       "    </tr>\n",
       "    <tr>\n",
       "      <th>acevedo-pena.biz</th>\n",
       "      <td>0013 Laura Square Apt. 635\\nLake Eddie, NV 009...</td>\n",
       "      <td>60 Hp</td>\n",
       "      <td>AM</td>\n",
       "      <td>Mozilla/5.0 (Macintosh; PPC Mac OS X 10_6_9; r...</td>\n",
       "      <td>Gallegos-King</td>\n",
       "      <td>869955493877604</td>\n",
       "      <td>12/22</td>\n",
       "      <td>619</td>\n",
       "      <td>VISA 13 digit</td>\n",
       "      <td>framos@acevedo-pena.biz</td>\n",
       "      <td>Psychotherapist, dance movement</td>\n",
       "      <td>148.231.123.228</td>\n",
       "      <td>ru</td>\n",
       "      <td>94.10</td>\n",
       "    </tr>\n",
       "    <tr>\n",
       "      <th>acosta.biz</th>\n",
       "      <td>25934 Taylor Plains Suite 029\\nDavidfurt, AZ 5...</td>\n",
       "      <td>56 mI</td>\n",
       "      <td>PM</td>\n",
       "      <td>Opera/9.27.(Windows NT 5.1; en-US) Presto/2.9....</td>\n",
       "      <td>Diaz PLC</td>\n",
       "      <td>180013026592712</td>\n",
       "      <td>04/19</td>\n",
       "      <td>955</td>\n",
       "      <td>Discover</td>\n",
       "      <td>jonathan54@acosta.biz</td>\n",
       "      <td>Special educational needs teacher</td>\n",
       "      <td>251.204.107.252</td>\n",
       "      <td>ru</td>\n",
       "      <td>13.14</td>\n",
       "    </tr>\n",
       "    <tr>\n",
       "      <th>acosta.com</th>\n",
       "      <td>648 James Squares Suite 099\\nNew Sabrina, VT 8...</td>\n",
       "      <td>99 uY</td>\n",
       "      <td>AM</td>\n",
       "      <td>Mozilla/5.0 (Macintosh; Intel Mac OS X 10_8_4;...</td>\n",
       "      <td>Hampton Ltd</td>\n",
       "      <td>3158120443445382</td>\n",
       "      <td>10/21</td>\n",
       "      <td>445</td>\n",
       "      <td>VISA 16 digit</td>\n",
       "      <td>berrymichael@acosta.com</td>\n",
       "      <td>Scientist, audiological</td>\n",
       "      <td>214.75.151.54</td>\n",
       "      <td>ru</td>\n",
       "      <td>51.72</td>\n",
       "    </tr>\n",
       "    <tr>\n",
       "      <th>adams-garcia.net</th>\n",
       "      <td>544 Perkins Crossing Apt. 489\\nBrittanyfort, M...</td>\n",
       "      <td>74 Kv</td>\n",
       "      <td>PM</td>\n",
       "      <td>Opera/9.53.(Windows 98; en-US) Presto/2.9.164 ...</td>\n",
       "      <td>Carpenter-Thompson</td>\n",
       "      <td>180081499676544</td>\n",
       "      <td>01/23</td>\n",
       "      <td>457</td>\n",
       "      <td>American Express</td>\n",
       "      <td>hmccoy@adams-garcia.net</td>\n",
       "      <td>Development worker, community</td>\n",
       "      <td>159.69.154.134</td>\n",
       "      <td>el</td>\n",
       "      <td>60.21</td>\n",
       "    </tr>\n",
       "    <tr>\n",
       "      <th>...</th>\n",
       "      <td>...</td>\n",
       "      <td>...</td>\n",
       "      <td>...</td>\n",
       "      <td>...</td>\n",
       "      <td>...</td>\n",
       "      <td>...</td>\n",
       "      <td>...</td>\n",
       "      <td>...</td>\n",
       "      <td>...</td>\n",
       "      <td>...</td>\n",
       "      <td>...</td>\n",
       "      <td>...</td>\n",
       "      <td>...</td>\n",
       "      <td>...</td>\n",
       "    </tr>\n",
       "    <tr>\n",
       "      <th>zavala.org</th>\n",
       "      <td>488 Kristi Lock Apt. 700\\nPort Johnmouth, MN 4...</td>\n",
       "      <td>30 Ap</td>\n",
       "      <td>PM</td>\n",
       "      <td>Mozilla/5.0 (compatible; MSIE 9.0; Windows NT ...</td>\n",
       "      <td>Richardson Ltd</td>\n",
       "      <td>4261829739539250</td>\n",
       "      <td>08/19</td>\n",
       "      <td>576</td>\n",
       "      <td>Mastercard</td>\n",
       "      <td>robert75@zavala.org</td>\n",
       "      <td>Public relations account executive</td>\n",
       "      <td>2.115.154.221</td>\n",
       "      <td>ru</td>\n",
       "      <td>55.61</td>\n",
       "    </tr>\n",
       "    <tr>\n",
       "      <th>zhang.biz</th>\n",
       "      <td>582 Ramos Mills\\nDamonview, KY 13497-8087</td>\n",
       "      <td>93 Pk</td>\n",
       "      <td>PM</td>\n",
       "      <td>Mozilla/5.0 (Windows NT 6.1) AppleWebKit/5342 ...</td>\n",
       "      <td>Johnson-Payne</td>\n",
       "      <td>4420372438941</td>\n",
       "      <td>04/19</td>\n",
       "      <td>694</td>\n",
       "      <td>Maestro</td>\n",
       "      <td>donaldjohnson@zhang.biz</td>\n",
       "      <td>Product designer</td>\n",
       "      <td>39.189.23.84</td>\n",
       "      <td>en</td>\n",
       "      <td>22.62</td>\n",
       "    </tr>\n",
       "    <tr>\n",
       "      <th>zhang.com</th>\n",
       "      <td>9985 Tammy Mills\\nNorth Christie, NY 84585</td>\n",
       "      <td>36 hI</td>\n",
       "      <td>AM</td>\n",
       "      <td>Opera/9.74.(X11; Linux x86_64; en-US) Presto/2...</td>\n",
       "      <td>Escobar-Mason</td>\n",
       "      <td>3337191797156333</td>\n",
       "      <td>11/23</td>\n",
       "      <td>832</td>\n",
       "      <td>Mastercard</td>\n",
       "      <td>smithdavid@zhang.com</td>\n",
       "      <td>Surveyor, quantity</td>\n",
       "      <td>211.190.145.255</td>\n",
       "      <td>en</td>\n",
       "      <td>30.69</td>\n",
       "    </tr>\n",
       "    <tr>\n",
       "      <th>zimmerman-clark.com</th>\n",
       "      <td>0131 Cooper Inlet\\nRamosville, PR 52544</td>\n",
       "      <td>43 IB</td>\n",
       "      <td>AM</td>\n",
       "      <td>Mozilla/5.0 (Windows; U; Windows NT 5.01) Appl...</td>\n",
       "      <td>Lopez LLC</td>\n",
       "      <td>4310800926502</td>\n",
       "      <td>01/19</td>\n",
       "      <td>448</td>\n",
       "      <td>Voyager</td>\n",
       "      <td>susan87@zimmerman-clark.com</td>\n",
       "      <td>Teacher, English as a foreign language</td>\n",
       "      <td>79.233.27.15</td>\n",
       "      <td>en</td>\n",
       "      <td>37.62</td>\n",
       "    </tr>\n",
       "    <tr>\n",
       "      <th>zuniga-jackson.com</th>\n",
       "      <td>97448 May Roads Apt. 503\\nPort Philip, ND 9737...</td>\n",
       "      <td>19 ij</td>\n",
       "      <td>PM</td>\n",
       "      <td>Mozilla/5.0 (Macintosh; U; Intel Mac OS X 10_6...</td>\n",
       "      <td>Bauer-Kemp</td>\n",
       "      <td>30285235152536</td>\n",
       "      <td>05/19</td>\n",
       "      <td>10</td>\n",
       "      <td>Maestro</td>\n",
       "      <td>oneilljessica@zuniga-jackson.com</td>\n",
       "      <td>Physiotherapist</td>\n",
       "      <td>243.140.176.253</td>\n",
       "      <td>en</td>\n",
       "      <td>86.26</td>\n",
       "    </tr>\n",
       "  </tbody>\n",
       "</table>\n",
       "<p>3416 rows × 14 columns</p>\n",
       "</div>"
      ],
      "text/plain": [
       "                                                               Address    Lot  \\\n",
       "Host                                                                            \n",
       "acevedo-osborn.com   62056 Anderson Fort Suite 150\\nSouth Katherine...  63 Qn   \n",
       "acevedo-pena.biz     0013 Laura Square Apt. 635\\nLake Eddie, NV 009...  60 Hp   \n",
       "acosta.biz           25934 Taylor Plains Suite 029\\nDavidfurt, AZ 5...  56 mI   \n",
       "acosta.com           648 James Squares Suite 099\\nNew Sabrina, VT 8...  99 uY   \n",
       "adams-garcia.net     544 Perkins Crossing Apt. 489\\nBrittanyfort, M...  74 Kv   \n",
       "...                                                                ...    ...   \n",
       "zavala.org           488 Kristi Lock Apt. 700\\nPort Johnmouth, MN 4...  30 Ap   \n",
       "zhang.biz                    582 Ramos Mills\\nDamonview, KY 13497-8087  93 Pk   \n",
       "zhang.com                   9985 Tammy Mills\\nNorth Christie, NY 84585  36 hI   \n",
       "zimmerman-clark.com            0131 Cooper Inlet\\nRamosville, PR 52544  43 IB   \n",
       "zuniga-jackson.com   97448 May Roads Apt. 503\\nPort Philip, ND 9737...  19 ij   \n",
       "\n",
       "                    AM or PM  \\\n",
       "Host                           \n",
       "acevedo-osborn.com        AM   \n",
       "acevedo-pena.biz          AM   \n",
       "acosta.biz                PM   \n",
       "acosta.com                AM   \n",
       "adams-garcia.net          PM   \n",
       "...                      ...   \n",
       "zavala.org                PM   \n",
       "zhang.biz                 PM   \n",
       "zhang.com                 AM   \n",
       "zimmerman-clark.com       AM   \n",
       "zuniga-jackson.com        PM   \n",
       "\n",
       "                                                          Browser Info  \\\n",
       "Host                                                                     \n",
       "acevedo-osborn.com   Mozilla/5.0 (X11; Linux i686; rv:1.9.5.20) Gec...   \n",
       "acevedo-pena.biz     Mozilla/5.0 (Macintosh; PPC Mac OS X 10_6_9; r...   \n",
       "acosta.biz           Opera/9.27.(Windows NT 5.1; en-US) Presto/2.9....   \n",
       "acosta.com           Mozilla/5.0 (Macintosh; Intel Mac OS X 10_8_4;...   \n",
       "adams-garcia.net     Opera/9.53.(Windows 98; en-US) Presto/2.9.164 ...   \n",
       "...                                                                ...   \n",
       "zavala.org           Mozilla/5.0 (compatible; MSIE 9.0; Windows NT ...   \n",
       "zhang.biz            Mozilla/5.0 (Windows NT 6.1) AppleWebKit/5342 ...   \n",
       "zhang.com            Opera/9.74.(X11; Linux x86_64; en-US) Presto/2...   \n",
       "zimmerman-clark.com  Mozilla/5.0 (Windows; U; Windows NT 5.01) Appl...   \n",
       "zuniga-jackson.com   Mozilla/5.0 (Macintosh; U; Intel Mac OS X 10_6...   \n",
       "\n",
       "                                         Company       Credit Card  \\\n",
       "Host                                                                 \n",
       "acevedo-osborn.com   Martinez, Wilson and Jacobs  4781478519992148   \n",
       "acevedo-pena.biz                   Gallegos-King   869955493877604   \n",
       "acosta.biz                              Diaz PLC   180013026592712   \n",
       "acosta.com                           Hampton Ltd  3158120443445382   \n",
       "adams-garcia.net              Carpenter-Thompson   180081499676544   \n",
       "...                                          ...               ...   \n",
       "zavala.org                        Richardson Ltd  4261829739539250   \n",
       "zhang.biz                          Johnson-Payne     4420372438941   \n",
       "zhang.com                          Escobar-Mason  3337191797156333   \n",
       "zimmerman-clark.com                    Lopez LLC     4310800926502   \n",
       "zuniga-jackson.com                    Bauer-Kemp    30285235152536   \n",
       "\n",
       "                    CC Exp Date  CC Security Code       CC Provider  \\\n",
       "Host                                                                  \n",
       "acevedo-osborn.com        06/24               434          Discover   \n",
       "acevedo-pena.biz          12/22               619     VISA 13 digit   \n",
       "acosta.biz                04/19               955          Discover   \n",
       "acosta.com                10/21               445     VISA 16 digit   \n",
       "adams-garcia.net          01/23               457  American Express   \n",
       "...                         ...               ...               ...   \n",
       "zavala.org                08/19               576        Mastercard   \n",
       "zhang.biz                 04/19               694           Maestro   \n",
       "zhang.com                 11/23               832        Mastercard   \n",
       "zimmerman-clark.com       01/19               448           Voyager   \n",
       "zuniga-jackson.com        05/19                10           Maestro   \n",
       "\n",
       "                                                Email  \\\n",
       "Host                                                    \n",
       "acevedo-osborn.com       jeffery47@acevedo-osborn.com   \n",
       "acevedo-pena.biz              framos@acevedo-pena.biz   \n",
       "acosta.biz                      jonathan54@acosta.biz   \n",
       "acosta.com                    berrymichael@acosta.com   \n",
       "adams-garcia.net              hmccoy@adams-garcia.net   \n",
       "...                                               ...   \n",
       "zavala.org                        robert75@zavala.org   \n",
       "zhang.biz                     donaldjohnson@zhang.biz   \n",
       "zhang.com                        smithdavid@zhang.com   \n",
       "zimmerman-clark.com       susan87@zimmerman-clark.com   \n",
       "zuniga-jackson.com   oneilljessica@zuniga-jackson.com   \n",
       "\n",
       "                                                        Job       IP Address  \\\n",
       "Host                                                                           \n",
       "acevedo-osborn.com                      Seismic interpreter    37.234.95.179   \n",
       "acevedo-pena.biz            Psychotherapist, dance movement  148.231.123.228   \n",
       "acosta.biz                Special educational needs teacher  251.204.107.252   \n",
       "acosta.com                          Scientist, audiological    214.75.151.54   \n",
       "adams-garcia.net              Development worker, community   159.69.154.134   \n",
       "...                                                     ...              ...   \n",
       "zavala.org               Public relations account executive    2.115.154.221   \n",
       "zhang.biz                                  Product designer     39.189.23.84   \n",
       "zhang.com                                Surveyor, quantity  211.190.145.255   \n",
       "zimmerman-clark.com  Teacher, English as a foreign language     79.233.27.15   \n",
       "zuniga-jackson.com                          Physiotherapist  243.140.176.253   \n",
       "\n",
       "                    Language  Purchase Price  \n",
       "Host                                          \n",
       "acevedo-osborn.com        es           70.01  \n",
       "acevedo-pena.biz          ru           94.10  \n",
       "acosta.biz                ru           13.14  \n",
       "acosta.com                ru           51.72  \n",
       "adams-garcia.net          el           60.21  \n",
       "...                      ...             ...  \n",
       "zavala.org                ru           55.61  \n",
       "zhang.biz                 en           22.62  \n",
       "zhang.com                 en           30.69  \n",
       "zimmerman-clark.com       en           37.62  \n",
       "zuniga-jackson.com        en           86.26  \n",
       "\n",
       "[3416 rows x 14 columns]"
      ]
     },
     "execution_count": 49,
     "metadata": {},
     "output_type": "execute_result"
    }
   ],
   "source": []
  }
 ],
 "metadata": {
  "kernelspec": {
   "display_name": "Python 3 (ipykernel)",
   "language": "python",
   "name": "python3"
  },
  "language_info": {
   "codemirror_mode": {
    "name": "ipython",
    "version": 3
   },
   "file_extension": ".py",
   "mimetype": "text/x-python",
   "name": "python",
   "nbconvert_exporter": "python",
   "pygments_lexer": "ipython3",
   "version": "3.12.2"
  }
 },
 "nbformat": 4,
 "nbformat_minor": 4
}
