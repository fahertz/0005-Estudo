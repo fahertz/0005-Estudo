{
 "cells": [
  {
   "cell_type": "code",
   "execution_count": null,
   "id": "1bd123a8-edef-4014-bb25-b147ff36aa61",
   "metadata": {},
   "outputs": [],
   "source": []
  }
 ],
 "metadata": {
  "kernelspec": {
   "display_name": "",
   "name": ""
  },
  "language_info": {
   "name": ""
  }
 },
 "nbformat": 4,
 "nbformat_minor": 5
}
