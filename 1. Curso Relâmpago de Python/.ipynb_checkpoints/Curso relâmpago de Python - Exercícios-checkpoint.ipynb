{
 "cells": [
  {
   "cell_type": "markdown",
   "metadata": {},
   "source": [
    "# Curso relâmpago de Python - Exercícios\n",
    "\n",
    "Este é um exercício opcional para testar sua compreensão sobre o Python Basics. Se você achar isso extremamente desafiador, então você provavelmente ainda não está pronto para o resto deste curso e não tem experiência de programação suficiente para continuar. Eu sugiro que você faça outro curso mais orientado para iniciantes, como [Complete Python Bootcamp](https://www.udemy.com/complete-python-bootcamp)"
   ]
  },
  {
   "cell_type": "markdown",
   "metadata": {},
   "source": [
    "## Exercícios\n",
    "\n",
    "Responda as perguntas ou complete as tarefas descritas em negrito abaixo, use o método específico, se aplicável."
   ]
  },
  {
   "cell_type": "markdown",
   "metadata": {},
   "source": [
    "** Quanto é 7 elevado na potência 4?**"
   ]
  },
  {
   "cell_type": "code",
<<<<<<< HEAD
   "execution_count": 3,
=======
   "execution_count": 1,
>>>>>>> 027d65450edcd95bc7f3fd7b2e34375327346dd7
   "metadata": {},
   "outputs": [
    {
     "data": {
      "text/plain": [
       "2401"
      ]
     },
<<<<<<< HEAD
     "execution_count": 3,
=======
     "execution_count": 1,
>>>>>>> 027d65450edcd95bc7f3fd7b2e34375327346dd7
     "metadata": {},
     "output_type": "execute_result"
    }
   ],
   "source": [
    "7**4"
   ]
  },
  {
   "cell_type": "code",
   "execution_count": 2,
   "metadata": {},
   "outputs": [
    {
     "data": {
      "text/plain": [
       "2401"
      ]
     },
     "execution_count": 2,
     "metadata": {},
     "output_type": "execute_result"
    }
   ],
   "source": []
  },
  {
   "cell_type": "markdown",
   "metadata": {},
   "source": [
    "** Quebre a seguinte string em uma lista:**\n",
    "\n",
    "    s = \"Olá, Pai!\""
   ]
  },
  {
   "cell_type": "code",
   "execution_count": 5,
   "metadata": {},
   "outputs": [
    {
     "data": {
      "text/plain": [
       "['Olá', ' Pai!']"
      ]
     },
     "execution_count": 5,
     "metadata": {},
     "output_type": "execute_result"
    }
   ],
   "source": [
    "\"Olá, Pai!\".split(',')"
   ]
  },
  {
   "cell_type": "code",
   "execution_count": 2,
   "metadata": {
    "scrolled": true
   },
   "outputs": [
    {
     "data": {
      "text/plain": [
       "['Olá,', 'Pai!']"
      ]
     },
     "execution_count": 2,
     "metadata": {},
     "output_type": "execute_result"
    }
   ],
   "source": []
  },
  {
   "cell_type": "markdown",
   "metadata": {},
   "source": [
    "** Dada as variáveis:**\n",
    "\n",
    "    Planeta = \"Terra\"\n",
    "    Diametro = 12742\n",
    "\n",
    "** Use .format() para printar a seguinte frase: **\n",
    "\n",
    "    O diâmetro da terra é de 12742 kilômetros."
   ]
  },
  {
   "cell_type": "code",
   "execution_count": 10,
   "metadata": {},
   "outputs": [],
   "source": [
    "planeta = \"Terra\"\n",
    "diametro = 12742"
   ]
  },
  {
   "cell_type": "code",
   "execution_count": 11,
   "metadata": {},
   "outputs": [
    {
     "name": "stdout",
     "output_type": "stream",
     "text": [
      "O diâmetro da Terra é de 12742 kilômetros\n"
     ]
    }
   ],
   "source": [
    "print('O diâmetro da {p1} é de {p2} kilômetros'.format(p1=planeta,p2=diametro))"
   ]
  },
  {
   "cell_type": "code",
   "execution_count": 1,
   "metadata": {},
   "outputs": [
    {
     "name": "stdout",
     "output_type": "stream",
     "text": [
      "O diâmetro da terra é de 12742 kilômetros.\n"
     ]
    }
   ],
   "source": []
  },
  {
   "cell_type": "code",
   "execution_count": null,
   "metadata": {},
   "outputs": [],
   "source": []
  },
  {
   "cell_type": "markdown",
   "metadata": {},
   "source": [
    "** Dada a lista abaixo, use indexação para obter apenas a string \"ola\". **"
   ]
  },
  {
   "cell_type": "code",
   "execution_count": 14,
   "metadata": {},
   "outputs": [],
   "source": [
    "lst = [1,2,[3,4],[5,[100,200,['olá']],23,11],1,7]"
   ]
  },
  {
   "cell_type": "code",
   "execution_count": 19,
   "metadata": {},
   "outputs": [
    {
     "name": "stdout",
     "output_type": "stream",
     "text": [
      "olá\n"
     ]
    }
   ],
   "source": [
    "print(lst[3][1][2][0])"
   ]
  },
  {
   "cell_type": "code",
   "execution_count": null,
   "metadata": {
    "collapsed": true,
    "jupyter": {
     "outputs_hidden": true
    }
   },
   "outputs": [],
   "source": []
  },
  {
   "cell_type": "markdown",
   "metadata": {},
   "source": [
    "** Dado o seguinte dicionário aninhado, extraia a palavra \"hello\" **"
   ]
  },
  {
   "cell_type": "code",
   "execution_count": 16,
   "metadata": {},
   "outputs": [],
   "source": [
    "d = {'k1':[1,2,3,{'café':['banana','mulher','colher',{'alvo':[1,2,3,'olá']}]}]}"
   ]
  },
  {
   "cell_type": "code",
   "execution_count": 20,
   "metadata": {},
   "outputs": [
    {
     "name": "stdout",
     "output_type": "stream",
     "text": [
      "olá\n"
     ]
    }
   ],
   "source": [
    "print(d[\"k1\"][3][\"café\"][3][\"alvo\"][3])"
   ]
  },
  {
   "cell_type": "markdown",
   "metadata": {},
   "source": [
    "** Qual a principal diferença entre um dicionário e uma tupla? **"
   ]
  },
  {
   "cell_type": "code",
   "execution_count": 3,
   "metadata": {
    "collapsed": true,
    "jupyter": {
     "outputs_hidden": true
    }
   },
   "outputs": [],
   "source": [
    "Tupla além de ser imutável, é associado por índice, igual uma lista, dicionários são por chave."
   ]
  },
  {
   "cell_type": "markdown",
   "metadata": {},
   "source": [
    "** Construa uma função que retire o domínio dado um e-mail no seguinte formato: **\n",
    "\n",
    "    user@domain.com\n",
    "    \n",
    "**Por exemplo, passando como parâmetro \"user@domain.com\" retornaria: domain.com**"
   ]
  },
  {
   "cell_type": "code",
<<<<<<< HEAD
   "execution_count": 23,
   "metadata": {},
   "outputs": [],
   "source": [
    "def obterDominio(str):\n",
    "    return str.split('@')[-1] ##último elemento da lista"
=======
   "execution_count": 42,
   "metadata": {},
   "outputs": [
    {
     "data": {
      "text/plain": [
       "'domain.com'"
      ]
     },
     "execution_count": 42,
     "metadata": {},
     "output_type": "execute_result"
    }
   ],
   "source": [
    "def obterDominio(str):\n",
    "    return str.split('@')[-1]\n",
    "\n",
    "obterDominio('u@s@er@domain.com')"
>>>>>>> 027d65450edcd95bc7f3fd7b2e34375327346dd7
   ]
  },
  {
   "cell_type": "code",
   "execution_count": 24,
   "metadata": {},
   "outputs": [
    {
     "data": {
      "text/plain": [
       "'domain.com'"
      ]
     },
     "execution_count": 24,
     "metadata": {},
     "output_type": "execute_result"
    }
   ],
   "source": [
    "obterDominio('user@domain.com')"
   ]
  },
  {
   "cell_type": "markdown",
   "metadata": {},
   "source": [
    "** Crie uma função básica que retorna True se a palavra 'dog' estiver contida na string de entrada. Não se preocupe com os casos de extremos, como uma pontuação que está sendo anexada à palavra cão, mas que seja senível à caixa. **"
   ]
  },
  {
   "cell_type": "code",
   "execution_count": 45,
   "metadata": {},
   "outputs": [],
   "source": [
    "def encontreCachorro(str):\n",
    "    if 'cachorro' in str.lower():\n",
    "        return True\n",
    "    else:\n",
    "        return False"
   ]
  },
  {
   "cell_type": "code",
   "execution_count": 46,
   "metadata": {},
   "outputs": [
    {
     "name": "stdout",
     "output_type": "stream",
     "text": [
      "True\n"
     ]
    }
   ],
   "source": [
    "print(encontreCachorro('Existe um caChorro aí?'))"
   ]
  },
  {
   "cell_type": "markdown",
   "metadata": {},
   "source": [
    "** Crie uma função que conta o número de vezes que a palavra \"dog\" ocorre em uma string. Novamente ignore os casos extremos. **"
   ]
  },
  {
   "cell_type": "code",
   "execution_count": 80,
   "metadata": {},
   "outputs": [],
   "source": [
    "def contaCachorro(str):\n",
    "    x=0\n",
    "    frase = str.lower().split()    \n",
    "    for palavra in frase:\n",
    "        if 'cachorro' in palavra:\n",
    "            x+=1\n",
    "    return x"
   ]
  },
  {
   "cell_type": "code",
   "execution_count": 81,
   "metadata": {},
   "outputs": [
    {
     "data": {
      "text/plain": [
       "2"
      ]
     },
     "execution_count": 81,
     "metadata": {},
     "output_type": "execute_result"
    }
   ],
   "source": [
    "contaCachorro('Esse cachorro é mais rápido que o outro cachorro.')"
   ]
  },
  {
   "cell_type": "markdown",
   "metadata": {},
   "source": [
    "** Use expressões lambda e a função filter () para filtrar as palavras de uma lista que não começa com a letra 's'. Por exemplo: **\n",
    "\n",
    "    seq = ['sopa','cachorro','salada','gato','ótimo']\n",
    "\n",
    "** Deveria ser filtrado para:**\n",
    "\n",
    "    ['sopa','salada']"
   ]
  },
  {
   "cell_type": "code",
   "execution_count": 88,
   "metadata": {},
   "outputs": [],
   "source": [
    "seq = ['sopa','cachorro','salada','gato','ótimo']"
   ]
  },
  {
   "cell_type": "code",
   "execution_count": 93,
   "metadata": {},
   "outputs": [
    {
     "data": {
      "text/plain": [
       "['cachorro', 'gato', 'ótimo']"
      ]
     },
     "execution_count": 93,
     "metadata": {},
     "output_type": "execute_result"
    }
   ],
   "source": [
    "list(filter(lambda palavra: 's' not in palavra[0], seq))"
   ]
  },
  {
   "cell_type": "code",
   "execution_count": 8,
   "metadata": {},
   "outputs": [
    {
     "data": {
      "text/plain": [
       "['sopa', 'salada']"
      ]
     },
     "execution_count": 8,
     "metadata": {},
     "output_type": "execute_result"
    }
   ],
   "source": []
  },
  {
   "cell_type": "markdown",
   "metadata": {},
   "source": [
    "### Problema final\n",
    "** Você está dirigindo um pouco rápido demais, e um policial para você. Escreva uma função para retornar um dos 3 resultados possíveis: \"Sem multa\", \"Pequena multa\" ou \"Multa Grande\".\n",
    "   Se a sua velocidade for igual ou inferior a 60, o resultado é \"Sem multa\". Se a velocidade for entre 61 e 80 inclusive, o resultado é \"Multa Pequena\". Se a velocidade é de 81 ou mais, o resultado é \"Multa Grande\". A menos que seja seu aniversário (codificado como um valor booleano nos parâmetros da função) - em seu aniversário, sua velocidade pode ser 5 maior em todos os casos. **"
   ]
  },
  {
   "cell_type": "code",
   "execution_count": 10,
   "metadata": {},
   "outputs": [],
   "source": [
    "def capturar_velocidade(speed, is_birthday):\n",
    "    pass"
   ]
  },
  {
   "cell_type": "code",
   "execution_count": 38,
   "metadata": {},
<<<<<<< HEAD
   "source": [
    "\n",
    "    "
=======
   "outputs": [],
   "source": [
    "\n",
    "# Sem multa, pequena multa ou multa grande.\n",
    "\n",
    "# Velocidade menor ou igual a 60 (Sem multa)\n",
    "# Velocidade entre 61 e 80 (multa pequena)\n",
    "# Velocidade é 81 ou mais (multa grande)\n",
    "\n",
    "# Se for seu aniversário, não leva multa, se for seu aniversário, a tolerância é de 5 \n",
    "\n",
    "def capturar_velocidade(speed, is_birthday):\n",
    "    if is_birthday:\n",
    "        speed -=5\n",
    "    if speed >= (60):\n",
    "        print('Sem multa')\n",
    "    elif speed>=(80):\n",
    "        print('Multa pequena')\n",
    "    else:\n",
    "        print('Multa Grave')\n",
    "    pass\n"
>>>>>>> 027d65450edcd95bc7f3fd7b2e34375327346dd7
   ]
  },
  {
   "cell_type": "code",
<<<<<<< HEAD
   "execution_count": 94,
   "metadata": {},
   "outputs": [],
   "source": [
    "def capturar_velocidade(speed, is_birthday):\n",
    "    if is_birthday:\n",
    "        speed-=5\n",
    "    if speed <=60:\n",
    "        print('Sem multa')\n",
    "    elif speed <=80:\n",
    "        print('Multa pequena')\n",
    "    else:\n",
    "        print('Multa grande')\n",
    "    \n",
    "    "
   ]
  },
  {
   "cell_type": "code",
   "execution_count": 95,
=======
   "execution_count": 36,
>>>>>>> 027d65450edcd95bc7f3fd7b2e34375327346dd7
   "metadata": {},
   "outputs": [
    {
     "name": "stdout",
     "output_type": "stream",
     "text": [
<<<<<<< HEAD
      "Multa pequena\n"
=======
      "Sem multa\n"
>>>>>>> 027d65450edcd95bc7f3fd7b2e34375327346dd7
     ]
    }
   ],
   "source": [
    "capturar_velocidade(65,False)"
   ]
  },
  {
   "cell_type": "code",
<<<<<<< HEAD
   "execution_count": 96,
=======
   "execution_count": 37,
>>>>>>> 027d65450edcd95bc7f3fd7b2e34375327346dd7
   "metadata": {},
   "outputs": [
    {
     "name": "stdout",
     "output_type": "stream",
     "text": [
<<<<<<< HEAD
      "Multa grande\n"
=======
      "Sem multa\n"
>>>>>>> 027d65450edcd95bc7f3fd7b2e34375327346dd7
     ]
    }
   ],
   "source": [
    "capturar_velocidade(81,False)"
   ]
  },
  {
   "cell_type": "code",
   "execution_count": null,
   "metadata": {},
   "outputs": [],
   "source": []
  }
 ],
 "metadata": {
  "kernelspec": {
   "display_name": "Python 3 (ipykernel)",
   "language": "python",
   "name": "python3"
  },
  "language_info": {
   "codemirror_mode": {
    "name": "ipython",
    "version": 3
   },
   "file_extension": ".py",
   "mimetype": "text/x-python",
   "name": "python",
   "nbconvert_exporter": "python",
   "pygments_lexer": "ipython3",
   "version": "3.12.2"
  }
 },
 "nbformat": 4,
 "nbformat_minor": 4
}
